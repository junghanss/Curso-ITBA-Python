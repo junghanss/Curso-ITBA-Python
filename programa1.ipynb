{
 "cells": [
  {
   "cell_type": "code",
   "execution_count": null,
   "metadata": {},
   "outputs": [],
   "source": [
    "import pandas as pd\n",
    "from datetime import datetime,timedelta\n",
    "from matplotlib import pyplot as plt      # Del modulo pyplot usaremos lo necesario para los graficos\n",
    "from matplotlib import dates as mpl_dates # Del modulo dates usaremos el formato especifico para la clase date/time\n",
    "import numpy as np\n",
    "import requests # Para definir nuestro propio wget"
   ]
  },
  {
   "cell_type": "code",
   "execution_count": null,
   "metadata": {},
   "outputs": [],
   "source": [
    "def wget(url):\n",
    "    r = requests.get(url, allow_redirects=True)\n",
    "    with open(url[url.rfind('/') + 1::], 'wb') as f:\n",
    "        f.write(r.content)\n",
    "wget(\"https://raw.githubusercontent.com/junghanss/curso_itba/master/AMZN.csv\")\n",
    "wget(\"https://raw.githubusercontent.com/junghanss/curso_itba/master/GOOG.csv\")"
   ]
  },
  {
   "cell_type": "code",
   "execution_count": null,
   "metadata": {},
   "outputs": [],
   "source": [
    "data_amzn = pd.read_csv(\"AMZN.csv\", parse_dates=[\"Date\"], index_col=\"Date\")    # Leemos cada archivo csv, convirtiendo el string de la columna \"Date\" a formato datetime e indexando por dicha columna\n",
    "data_goog = pd.read_csv(\"GOOG.csv\", parse_dates=[\"Date\"], index_col=\"Date\")\n",
    "u=pd.to_datetime(input(\"Inserta una fecha inicial: (ejemplo: 2005) \"), dayfirst=True)        # Definimos la variable que almacenará el dato de la entrada de la fecha inicial del periodo a eleccion\n",
    "f=pd.to_datetime(input(\"Inserta una fecha final: (ejemplo 2020) \"), dayfirst=True)          # Se le asigna como parametro que en el ingreso respete dia primero\n",
    "\n",
    "while u>f:          # Componemos un bucle que nos ayudara a determinar si la fecha inicial es posterior a la final, para solicitar que se reingrese el dato, sin que el programa se rompa\n",
    "    print(\"El orden de las fechas ha sido mal ingresado, por favor intentarlo nuevamente.\")     \n",
    "    u=pd.to_datetime(input(\"Inserta una fecha inicial: \"), dayfirst=True)\n",
    "    f=pd.to_datetime(input(\"Inserta una fecha final: \"), dayfirst=True)\n",
    "else:               # Faltaria determinar un loop condicionando el input a un único formato, para que si el usuario ingresa un string o un dato incompatible, el programa no se rompa. Disculpas pero no llegue a codearlo.\n",
    "    x=data_amzn[u:f][\"Close\"]       \n",
    "    y=data_goog[u:f][\"Close\"]  "
   ]
  },
  {
   "cell_type": "code",
   "execution_count": null,
   "metadata": {},
   "outputs": [],
   "source": [
    "crucex = []\n",
    "crucey = []\n",
    "\n",
    "for i in range(1, len(data_amzn[u:f])):         # Armamos el bucle donde determinaremos un condicional para que almacene aquellos datos de precios que son iguales o su diferencia entre dos días se cruzan\n",
    "    if (data_amzn[\"Close\"][i] == data_goog[\"Close\"][i]) or (data_amzn[\"Close\"][i] > data_goog[\"Close\"][i] and data_amzn[\"Close\"][i-1] < data_goog[\"Close\"][i-1]) or (data_amzn[\"Close\"][i] < data_goog[\"Close\"][i] and data_amzn[\"Close\"][i-1] > data_goog[\"Close\"][i-1]):\n",
    "        crucex.append(data_goog.index[i])\n",
    "        crucey.append(data_goog[\"Close\"][i])\n",
    "print(\"Eje X: \", crucex)\n",
    "print(\"Eje Y: \", crucey)"
   ]
  },
  {
   "cell_type": "code",
   "execution_count": null,
   "metadata": {},
   "outputs": [],
   "source": [
    "np.savetxt(\"crossingdates.csv\", crucex, fmt='%s')   # Con la funcion savetxt de Numpy podremos almacenar la informacion de los cruces exportandola en formato csv"
   ]
  },
  {
   "cell_type": "code",
   "execution_count": null,
   "metadata": {},
   "outputs": [],
   "source": [
    "# EXTRA: Analisis opcional con medias moviles para el usuario\n",
    "# Calculamos dos medias moviles simples (simple moving average) de periodo 20 dias (window=20)\n",
    "SMA_short_AMZN = x.rolling(window=20).mean()\n",
    "SMA_short_AMZN.head(20)\n",
    "SMA_short_GOOG = y.rolling(window=20).mean()\n",
    "SMA_short_GOOG.head(20)\n",
    "# Calculamos dos medias moviles simples (simple moving average) de un periodo largo (window=80)\n",
    "SMA_long_AMZN = x.rolling(window=80).mean()\n",
    "SMA_long_AMZN.tail()\n",
    "SMA_long_GOOG = y.rolling(window=80).mean()\n",
    "SMA_long_GOOG.tail()"
   ]
  },
  {
   "cell_type": "code",
   "execution_count": null,
   "metadata": {},
   "outputs": [],
   "source": [
    "plt.style.use('seaborn')\n",
    "plt.rc('figure', figsize=(12,6))\n",
    "plt.plot(x, color=\"#06314d\", label=\"Amazon\")\n",
    "plt.plot(y, color=\"#91162f\", label=\"Alphabet Inc\")\n",
    "\n",
    "MA=str(input(\"¿Desearías agregar medias moviles a tu grafico? (SI / NO)  :\"))  # Pedimos al usuario un input para que elija si quiere o no agregar las medias moviles al grafico\n",
    "if MA == \"SI\" or MA ==\"Si\" or MA==\"si\" or MA==\"sI\":                            # En caso que el input tipo string coincida con esas opciones, graficara todas las SMA\n",
    "    plt.plot(SMA_short_AMZN, 'g', label=\"SMA 20-days Amazon\")\n",
    "    plt.plot(SMA_long_AMZN, color=\"#b0aaac\", label=\"SMA 80-days Amazon\")\n",
    "    plt.plot(SMA_short_GOOG, 'c', label=\"SMA 20-days Google\")\n",
    "    plt.plot(SMA_long_GOOG, color=\"#b49cb1\", label=\"SMA 80-days Google\")\n",
    "    \n",
    "plt.plot(crucex, crucey, 'k', marker='o', linestyle='none', label=\"Intersecciones\")     # Graficamos las listas con datos de cruces para que queden marcadas dichas intersecciones\n",
    "plt.gcf().autofmt_xdate()       # Llamamos a la figura (con gcf: get current figure) para auto-ajustar (autofmt) el eje X. Automaticamente las posiciones de fechas se ajustaran segun el zoom o posicion del grafico \n",
    "date_format = mpl_dates.DateFormatter('%b, %d %Y') # (b:month, d:day, Y:year) seteamos una variable con el formato elegido\n",
    "plt.gca().xaxis.set_major_formatter(date_format)   # Llamamos al eje X (gca: get current axis) y le asignamos como formato a la variable anterior\n",
    "plt.title(\"Grafico comparativo - Cotización historica\", fontsize=16)\n",
    "plt.xlabel(\"Tiempo\")\n",
    "plt.ylabel(\"Precio\")\n",
    "plt.legend()\n",
    "plt.show()"
   ]
  }
 ],
 "metadata": {
  "language_info": {
   "codemirror_mode": {
    "name": "ipython",
    "version": 3
   },
   "file_extension": ".py",
   "mimetype": "text/x-python",
   "name": "python",
   "nbconvert_exporter": "python",
   "pygments_lexer": "ipython3",
   "version": "3.8.0-final"
  },
  "orig_nbformat": 2,
  "kernelspec": {
   "name": "python38032bitf28f71aa5fb644c18da3a3eb07da55ec",
   "display_name": "Python 3.8.0 32-bit"
  }
 },
 "nbformat": 4,
 "nbformat_minor": 2
}